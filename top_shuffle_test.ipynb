{
 "cells": [
  {
   "cell_type": "code",
   "execution_count": 12,
   "metadata": {},
   "outputs": [],
   "source": [
    "import numpy as np\n",
    "import random"
   ]
  },
  {
   "cell_type": "code",
   "execution_count": 423,
   "metadata": {},
   "outputs": [],
   "source": [
    "def top_shuffling(n,k):\n",
    "    array_inicial=np.array([i for i in range(1, n+1)])\n",
    "    print(array_inicial)\n",
    "    al_azar=al_azar=random.randint(0,n-1)\n",
    "\n",
    "   # while al_azar!= array_inicial[0] +1:\n",
    "    #        al_azar=random.randint(0,n-1)\n",
    "\n",
    "    #array_final=np.zeros(n)\n",
    "    iteracion=0\n",
    "    while iteracion<k:\n",
    "        inicial=array_inicial[0]\n",
    "        final=array_inicial[al_azar]\n",
    "        array_inicial[0]=final\n",
    "        array_inicial[al_azar]=inicial\n",
    "        al_azar=random.randint(0,n-1)\n",
    "        iteracion+=1\n",
    "    print(array_inicial)"
   ]
  },
  {
   "cell_type": "code",
   "execution_count": 441,
   "metadata": {},
   "outputs": [
    {
     "name": "stdout",
     "output_type": "stream",
     "text": [
      "[ 1  2  3  4  5  6  7  8  9 10 11 12 13 14 15 16 17 18 19 20 21 22 23 24\n",
      " 25 26 27 28 29 30 31 32 33 34 35 36 37 38 39 40 41 42 43 44 45 46 47 48\n",
      " 49 50 51 52]\n",
      "[ 9  2  3  4  5  6  7  8 30 10 11 12 13 14 25 16 17 18 19 20 45 22 23 24\n",
      " 27 26 35 28 15 21 31 32 33 34 29 36 37 38 39 40 41 42 43 44  1 46 47 48\n",
      " 49 50 51 52]\n"
     ]
    }
   ],
   "source": [
    "top_shuffling(52,10)"
   ]
  },
  {
   "cell_type": "code",
   "execution_count": 114,
   "metadata": {},
   "outputs": [
    {
     "name": "stdout",
     "output_type": "stream",
     "text": [
      "2\n"
     ]
    }
   ],
   "source": [
    "    al_azar=random.randint(0,2)\n",
    "    print(al_azar)\n"
   ]
  }
 ],
 "metadata": {
  "kernelspec": {
   "display_name": "Python 3",
   "language": "python",
   "name": "python3"
  },
  "language_info": {
   "codemirror_mode": {
    "name": "ipython",
    "version": 3
   },
   "file_extension": ".py",
   "mimetype": "text/x-python",
   "name": "python",
   "nbconvert_exporter": "python",
   "pygments_lexer": "ipython3",
   "version": "3.8.3"
  }
 },
 "nbformat": 4,
 "nbformat_minor": 4
}
