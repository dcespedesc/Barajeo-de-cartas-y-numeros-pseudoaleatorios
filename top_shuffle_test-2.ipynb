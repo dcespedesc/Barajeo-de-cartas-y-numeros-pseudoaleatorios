{
 "cells": [
  {
   "cell_type": "code",
   "execution_count": 62,
   "metadata": {},
   "outputs": [
    {
     "ename": "AttributeError",
     "evalue": "module 'seaborn' has no attribute 'set_theme'",
     "output_type": "error",
     "traceback": [
      "\u001b[1;31m---------------------------------------------------------------------------\u001b[0m",
      "\u001b[1;31mAttributeError\u001b[0m                            Traceback (most recent call last)",
      "\u001b[1;32m<ipython-input-62-c893977c4da2>\u001b[0m in \u001b[0;36m<module>\u001b[1;34m\u001b[0m\n\u001b[0;32m     10\u001b[0m \u001b[1;32mimport\u001b[0m \u001b[0mscipy\u001b[0m\u001b[1;33m.\u001b[0m\u001b[0mspecial\u001b[0m\u001b[1;33m\u001b[0m\u001b[1;33m\u001b[0m\u001b[0m\n\u001b[0;32m     11\u001b[0m \u001b[1;33m\u001b[0m\u001b[0m\n\u001b[1;32m---> 12\u001b[1;33m \u001b[0msns\u001b[0m\u001b[1;33m.\u001b[0m\u001b[0mset_theme\u001b[0m\u001b[1;33m(\u001b[0m\u001b[1;33m)\u001b[0m\u001b[1;33m\u001b[0m\u001b[1;33m\u001b[0m\u001b[0m\n\u001b[0m",
      "\u001b[1;31mAttributeError\u001b[0m: module 'seaborn' has no attribute 'set_theme'"
     ]
    }
   ],
   "source": [
    "#Importacion de paquetes\n",
    "import numpy as np\n",
    "import random\n",
    "import matplotlib.pyplot as plt\n",
    "import seaborn as sns\n",
    "import itertools\n",
    "\n",
    "from collections import Counter\n",
    "\n",
    "import scipy.special\n",
    "\n",
    "sns.set_theme()"
   ]
  },
  {
   "cell_type": "code",
   "execution_count": 65,
   "metadata": {},
   "outputs": [],
   "source": [
    "#    \"\"\"\"\n",
    " #   Aplica un top shuffle a un mazo de cartas\n",
    " #   \"\"\"\n",
    " \n",
    "def topShuffle(mazo):\n",
    "    n = len(mazo)\n",
    "    i = np.random.randint(n)\n",
    "    mazo = np.insert(mazo, i, mazo[-1])[:-1]\n",
    "    return mazo"
   ]
  },
  {
   "cell_type": "code",
   "execution_count": 66,
   "metadata": {},
   "outputs": [],
   "source": [
    "#Toma un mazo de cartas en su posicion inicial y  le aplica\n",
    "#un top shuffle k veces\n",
    "def topShuffle_k(n,k):\n",
    "    mazo=range(0,n)\n",
    "    for i in range(k):\n",
    "        mazo=topShuffle(mazo)\n",
    "    return mazo"
   ]
  },
  {
   "cell_type": "code",
   "execution_count": 34,
   "metadata": {},
   "outputs": [],
   "source": [
    "def iteracionesTopShuffle(n):\n",
    "    \"\"\"\n",
    "    Retorna la cantidad de iteraciones del top shuffle necesarias para revolver un mazo de n cartas\n",
    "    \"\"\"\n",
    "    mazo = np.arange(n)\n",
    "    k = 0\n",
    "    while mazo[-1] != 0:\n",
    "        mazo = topShuffle(mazo)\n",
    "        k += 1\n",
    "    return k"
   ]
  },
  {
   "cell_type": "code",
   "execution_count": 35,
   "metadata": {},
   "outputs": [],
   "source": [
    "def nlogn(n):\n",
    "    return n*np.log(n)"
   ]
  },
  {
   "cell_type": "code",
   "execution_count": 36,
   "metadata": {},
   "outputs": [
    {
     "data": {
      "image/png": "[encoded data removed]",
      "text/plain": [
       "<Figure size 432x288 with 1 Axes>"
      ]
     },
     "metadata": {},
     "output_type": "display_data"
    }
   ],
   "source": [
    "N = 1000\n",
    "\n",
    "deck_size = np.arange(N)+1\n",
    "iterations = np.zeros(N)\n",
    "for i in range(N):\n",
    "    iterations[i] = iteracionesTopShuffle(i+1)\n",
    "    \n",
    "plt.plot(deck_size, iterations)\n",
    "plt.plot(deck_size, nlogn(deck_size), label=r\"$n\\log n$\")\n",
    "plt.legend()\n",
    "plt.show()"
   ]
  },
  {
   "cell_type": "code",
   "execution_count": 67,
   "metadata": {},
   "outputs": [],
   "source": [
    "#Toma dos medidas (sobre el mismo espacio discreta)\n",
    "#y calcula su variacion total\n",
    "\n",
    "def variacion_total(medida_1,medida_2):\n",
    "\n",
    "    suma=0\n",
    "    for i in range(len(medida_1)):\n",
    "       # print( suma)\n",
    "        suma+=np.abs(medida_1[i]-medida_2[i])\n",
    "    return suma/2"
   ]
  },
  {
   "cell_type": "code",
   "execution_count": 68,
   "metadata": {},
   "outputs": [
    {
     "name": "stdout",
     "output_type": "stream",
     "text": [
      "0.4\n"
     ]
    }
   ],
   "source": [
    "#ejemplo de calculo de variacion total\n",
    "medida_1=[0.1,0.9]\n",
    "medida_2=[0.5,0.5]\n",
    "print(variacion_total(medida_1,medida_2))"
   ]
  },
  {
   "cell_type": "code",
   "execution_count": 73,
   "metadata": {},
   "outputs": [],
   "source": [
    "#funcion que calcula todas las permutaciones\n",
    "#de {0,1,...,n-1}\n",
    "def permutaciones(n):\n",
    "    lista=range(0,n)\n",
    "    return list(itertools.permutations(lista))"
   ]
  },
  {
   "cell_type": "code",
   "execution_count": 75,
   "metadata": {},
   "outputs": [
    {
     "name": "stdout",
     "output_type": "stream",
     "text": [
      "[(0, 1, 2, 3), (0, 1, 3, 2), (0, 2, 1, 3), (0, 2, 3, 1), (0, 3, 1, 2), (0, 3, 2, 1), (1, 0, 2, 3), (1, 0, 3, 2), (1, 2, 0, 3), (1, 2, 3, 0), (1, 3, 0, 2), (1, 3, 2, 0), (2, 0, 1, 3), (2, 0, 3, 1), (2, 1, 0, 3), (2, 1, 3, 0), (2, 3, 0, 1), (2, 3, 1, 0), (3, 0, 1, 2), (3, 0, 2, 1), (3, 1, 0, 2), (3, 1, 2, 0), (3, 2, 0, 1), (3, 2, 1, 0)]\n"
     ]
    }
   ],
   "source": [
    "#ejemplo\n",
    "print(permutaciones(4))\n"
   ]
  },
  {
   "cell_type": "code",
   "execution_count": 45,
   "metadata": {},
   "outputs": [
    {
     "data": {
      "text/plain": [
       "[0, 1, 2, 3, 4, 5, 6, 7, 8, 9]"
      ]
     },
     "execution_count": 45,
     "metadata": {},
     "output_type": "execute_result"
    }
   ],
   "source": []
  },
  {
   "cell_type": "code",
   "execution_count": 86,
   "metadata": {},
   "outputs": [],
   "source": [
    "#n es el numero de cartas, k cuantos shuffles\n",
    "#se ocupan y r el numero de replicas\n",
    "def  estimador_media(n,k,r):\n",
    "    lista_1=permutaciones(n)\n",
    "    instancias=list()\n",
    "    for i in range(r):\n",
    "        instancias.append(topShuffle_k(n,k))\n",
    "    #return instancias\n",
    "    conteo=np.zeros(np.math.factorial(n))\n",
    "    \n",
    "    for i in  range(len(lista_1)):\n",
    "       # print(lista_1[i])\n",
    "        suma=0\n",
    "        for j in range(len(instancias)):\n",
    "            if np.array_equal(instancias[j],lista_1[i]):\n",
    "                suma+=1\n",
    "        conteo[i]=suma\n",
    "    return conteo/len(instancias)\n",
    "def medida_uniforme(n):\n",
    "    return np.ones(np.math.factorial(n))/np.math.factorial(n)"
   ]
  },
  {
   "cell_type": "code",
   "execution_count": 89,
   "metadata": {},
   "outputs": [],
   "source": [
    "#generacion de graficos para top shuffle\n",
    "n=7\n",
    "uniforme=medida_uniforme(n)"
   ]
  },
  {
   "cell_type": "code",
   "execution_count": 95,
   "metadata": {
    "scrolled": false
   },
   "outputs": [],
   "source": [
    "#estimador_media(5,3)\n",
    "errores=[]\n",
    "for i in range(1,20):\n",
    "    errores.append(variacion_total((estimador_media(7,i,15120)),uniforme))"
   ]
  },
  {
   "cell_type": "code",
   "execution_count": 99,
   "metadata": {
    "scrolled": true
   },
   "outputs": [
    {
     "data": {
      "text/plain": [
       "<matplotlib.legend.Legend at 0x23d7140ea90>"
      ]
     },
     "execution_count": 99,
     "metadata": {},
     "output_type": "execute_result"
    },
    {
     "data": {
      "image/png": "[encoded data removed]",
      "text/plain": [
       "<Figure size 648x432 with 1 Axes>"
      ]
     },
     "metadata": {
      "needs_background": "light"
     },
     "output_type": "display_data"
    }
   ],
   "source": [
    "plt.figure(figsize=(9,6))\n",
    "plt.plot(errores,label='Variacion total segun cantidad de shuffles para 7 cartas')\n",
    "plt.legend()\n"
   ]
  },
  {
   "cell_type": "markdown",
   "metadata": {},
   "source": [
    "# Modelo de urna de Ehrenfest"
   ]
  },
  {
   "cell_type": "code",
   "execution_count": 6,
   "metadata": {},
   "outputs": [],
   "source": [
    "# Funcion que simula la transicion  de una cadena de Markov \n",
    "#desde el estado x hasta otro estado de la cadena.\n",
    "#Para esto se implementa la funcion  f(x,u), que se demostro \n",
    "# que era una funcion de transicion\n",
    "def Trans(x,u,P): \n",
    "    contador=1# contador\n",
    "   # suma=sum(P[int(x)-1][:contador]) #suma de P_xy\n",
    "    #print(x)\n",
    "    while   sum(P[int(x)-1][:contador])<u :\n",
    "        #suma+=P[int(x)][contador]\n",
    "        contador+=1\n",
    "\n",
    "\n",
    "\n",
    "\n",
    "    return  contador \n",
    "\n",
    "\n",
    "\n",
    "#funcion que simula $n$ transiciones de la cadena de markov\n",
    "#homogena de distribucion inicial mu y  de  matriz de transicion P\n",
    "\n",
    "def CM(u,mu,P):\n",
    "    #Requeriremos n uniformes [0,1]\n",
    "    contador=1\n",
    "    suma=0\n",
    "    while sum(mu[:contador])<u[0] :\n",
    "        #suma+=mu[contador]\n",
    "        contador+=1\n",
    "\n",
    "    inicial=contador \n",
    "\n",
    "    cadena=np.zeros(len(u))\n",
    "    cadena[0]=inicial\n",
    "    for i in range(1,len(u)):\n",
    "        cadena[i]=Trans(cadena[i-1],u[i],P)\n",
    "    return cadena -1\n",
    "         \n",
    "def matriz_de_transicion(n):\n",
    "    P = np.zeros((n+1,n+1))\n",
    "    P[0, 0], P[0, 1] = 1/(n+1), n/(n+1)\n",
    "    P[n, n], P[n, n-1] = 1/(n+1), n/(n+1)\n",
    "    for i in range(1, n):\n",
    "        P[i, i-1] = i/(n+1)\n",
    "        P[i, i] = 1/(n+1)\n",
    "        P[i, i+1] = (n-i)/(n+1)\n",
    "    return P"
   ]
  },
  {
   "cell_type": "code",
   "execution_count": 100,
   "metadata": {},
   "outputs": [],
   "source": [
    "#Funcion que modela una urna de Ehrenfest de tamaño n con k pasos\n",
    "def Ehrenfest(n,k):\n",
    "    mu=np.zeros(n+1)\n",
    "    mu[0]=1\n",
    "    matriz=matriz_de_transicion(n+1)\n",
    "    uniformes=np.random.uniform(size=k)\n",
    "    cadena=CM(uniformes,mu,matriz)\n",
    "    return cadena"
   ]
  },
  {
   "cell_type": "code",
   "execution_count": 9,
   "metadata": {},
   "outputs": [
    {
     "data": {
      "text/plain": [
       "[<matplotlib.lines.Line2D at 0x23d70bad700>]"
      ]
     },
     "execution_count": 9,
     "metadata": {},
     "output_type": "execute_result"
    },
    {
     "data": {
      "image/png": "[encoded data removed]",
      "text/plain": [
       "<Figure size 648x432 with 1 Axes>"
      ]
     },
     "metadata": {
      "needs_background": "light"
     },
     "output_type": "display_data"
    }
   ],
   "source": [
    "plt.figure(figsize=(9,6))\n",
    "plt.plot(Ehrenfest(100, 1000))"
   ]
  },
  {
   "cell_type": "code",
   "execution_count": null,
   "metadata": {},
   "outputs": [],
   "source": [
    "def estimador_medida_cadena(n,cadena):\n",
    "    n=[i for i in range(n+1)]\n",
    "    contador=[np.zeros(n+1)]\n",
    "    for j in range(n):\n",
    "        suma=0\n",
    "        for i in range(len(cadena)):\n",
    "            if cadena[i]==j:\n",
    "                suma+=1\n",
    "        contador[j]=suma"
   ]
  },
  {
   "cell_type": "code",
   "execution_count": 12,
   "metadata": {},
   "outputs": [],
   "source": [
    "#Cuenta cuantas veces se repiten los elementos de [0,..n]\n",
    "#en un array\n",
    "#se usara para estimar la distribucion de la urna despues de k pasos\n",
    "def contador(n,array):\n",
    "    lista=Counter(array)\n",
    "    contador=np.zeros(n+1)\n",
    "    for j in range(n+1):\n",
    "     #   print(lista[j])\n",
    "        contador[j]=lista[j]\n",
    "    return contador"
   ]
  },
  {
   "cell_type": "code",
   "execution_count": 110,
   "metadata": {},
   "outputs": [],
   "source": [
    "\n",
    "def estimador_medida_cadena(n,cadena):\n",
    "    contador=np.zeros(n+1)\n",
    "    for j in range(n+1):\n",
    "        suma=0\n",
    "        for i in range(len(cadena)):\n",
    "            if cadena[i]==j:\n",
    "                suma+=1\n",
    "        contador[j]=suma\n",
    "    return contador/len(cadena)\n",
    "def distribucion_invariante(n):\n",
    "    array=np.zeros(n+1)\n",
    "    for i in range(n+1):\n",
    "        array[i]=scipy.special.binom(n,i)/2**n\n",
    "    return array"
   ]
  },
  {
   "cell_type": "code",
   "execution_count": 108,
   "metadata": {},
   "outputs": [
    {
     "data": {
      "text/plain": [
       "array([0.09090909, 0.09090909, 0.27272727, 0.27272727, 0.18181818,\n",
       "       0.09090909, 0.        , 0.        , 0.        , 0.        ,\n",
       "       0.        ])"
      ]
     },
     "execution_count": 108,
     "metadata": {},
     "output_type": "execute_result"
    }
   ],
   "source": [
    "estimador_medida_cadena(10,Ehrenfest(10,11))"
   ]
  },
  {
   "cell_type": "code",
   "execution_count": 36,
   "metadata": {},
   "outputs": [],
   "source": [
    "#n numero de bolas de la urna\n",
    "#k numero de veces en que ocurren cambios\n",
    "#r numero de replicas por simulacion\n",
    "#estima distribucion despues de  k pasos\n",
    "def estimar_distribucion_cadena(n,k,r):\n",
    "    valor_final=np.zeros(r+1)\n",
    "    for i in range(r):\n",
    "        valor_final[i]=Ehrenfest(n,k)[-1]\n",
    "    return contador(n,valor_final)/r"
   ]
  },
  {
   "cell_type": "code",
   "execution_count": null,
   "metadata": {},
   "outputs": [],
   "source": []
  },
  {
   "cell_type": "code",
   "execution_count": 111,
   "metadata": {},
   "outputs": [],
   "source": [
    "c=estimar_distribucion_cadena(10,10,1000)\n",
    "d=distribucion_invariante(10)"
   ]
  },
  {
   "cell_type": "code",
   "execution_count": 114,
   "metadata": {},
   "outputs": [
    {
     "data": {
      "text/plain": [
       "0.14645312499999996"
      ]
     },
     "execution_count": 114,
     "metadata": {},
     "output_type": "execute_result"
    }
   ],
   "source": [
    "variacion_total(c,d)"
   ]
  },
  {
   "cell_type": "code",
   "execution_count": 60,
   "metadata": {
    "scrolled": true
   },
   "outputs": [
    {
     "name": "stdout",
     "output_type": "stream",
     "text": [
      "1.001666666666666\n",
      "1.0016666666666432\n",
      "1.0016666666660772\n",
      "1.001666666656829\n",
      "1.0016666665458511\n",
      "1.0016666655026816\n",
      "1.0016666575048747\n",
      "1.0016666060909682\n",
      "1.0016663233113685\n",
      "1.0016649722532809\n",
      "1.0016592978179948\n",
      "1.0016381477200462\n",
      "1.0015676469508348\n",
      "1.0013561449483896\n",
      "1.00078206923878\n",
      "0.9993660118206201\n",
      "0.9961798863808133\n",
      "0.9896202209360636\n",
      "0.9772297216715384\n",
      "0.9762868886459225\n",
      "0.9605631144171514\n",
      "0.9523760595894131\n",
      "0.9294639217524175\n",
      "0.9223761190016927\n",
      "0.9079438757832253\n",
      "0.8782138187188316\n",
      "0.8779438757832253\n",
      "0.840448242167031\n",
      "0.8379452268413129\n",
      "0.8171162598917853\n",
      "0.7611416889525522\n",
      "0.7937815755003642\n",
      "0.7278040322333383\n",
      "0.7438027257006088\n",
      "0.7311360145085842\n",
      "0.6771205832776657\n",
      "0.6578097066773064\n",
      "0.6204808545488655\n",
      "0.5911430400106398\n",
      "0.556465423317947\n",
      "0.5746878753464182\n",
      "0.5770770205480504\n",
      "0.5444975235442177\n",
      "0.5071038451922631\n",
      "0.46187604667182963\n",
      "0.4604371785255963\n",
      "0.430507679193078\n",
      "0.45405251452885653\n",
      "0.4247090255466628\n",
      "0.40738017341822186\n",
      "0.41048652899283355\n",
      "0.3773858478621898\n",
      "0.37854838778246425\n",
      "0.3498199068515248\n",
      "0.3418817211157977\n",
      "0.3276323880000614\n",
      "0.3328202348035307\n",
      "0.359964444046454\n",
      "0.3039820138613748\n",
      "0.2939364798053936\n",
      "0.26619006173668464\n",
      "0.2940525145288565\n",
      "0.2599449436105142\n",
      "0.22732155259910106\n",
      "0.2426672999820224\n",
      "0.23524622646502447\n",
      "0.1835002389260719\n",
      "0.22499968632715278\n",
      "0.22786169859470667\n",
      "0.22925994626649637\n",
      "0.2252150544491309\n",
      "0.15295428199694783\n",
      "0.18885922318342466\n",
      "0.14603180533124918\n",
      "0.13281450672137868\n",
      "0.1907811949285723\n",
      "0.17394617132230472\n",
      "0.14461755093647552\n",
      "0.13255126525855945\n",
      "0.13169956413925868\n",
      "0.16588459859189283\n",
      "0.1469953182449466\n",
      "0.1311373696441374\n",
      "0.1227042000800679\n",
      "0.12496531286793565\n",
      "0.12784480991579056\n",
      "0.15060314647206033\n",
      "0.12128941605322667\n",
      "0.12723799226328522\n",
      "0.09853156423918889\n",
      "0.11822511143811297\n",
      "0.0707784199310369\n",
      "0.11966089506318359\n",
      "0.10302440429963934\n",
      "0.09729885298666646\n",
      "0.11243611894751576\n",
      "0.11562068411689788\n",
      "0.10715344811652629\n",
      "0.13357333939498062\n"
     ]
    }
   ],
   "source": [
    "errores=[]\n",
    "for i in range(1,100):\n",
    "    c=estimar_distribucion_cadena(50,i,300)\n",
    "    d=distribucion_invariante(51)\n",
    "    errores.append(variacion_total(c,d))\n",
    "    print(variacion_total(c,d))"
   ]
  },
  {
   "cell_type": "code",
   "execution_count": 61,
   "metadata": {},
   "outputs": [
    {
     "data": {
      "text/plain": [
       "<matplotlib.lines.Line2D at 0x23d70fd9e20>"
      ]
     },
     "execution_count": 61,
     "metadata": {},
     "output_type": "execute_result"
    },
    {
     "data": {
      "image/png": "[encoded data removed]",
      "text/plain": [
       "<Figure size 432x288 with 1 Axes>"
      ]
     },
     "metadata": {
      "needs_background": "light"
     },
     "output_type": "display_data"
    }
   ],
   "source": [
    "plt.plot(errores)\n",
    "plt.axvline(x=0.25*50*np.log(50),ymin=0,ymax=1 , color='b')"
   ]
  },
  {
   "cell_type": "code",
   "execution_count": 22,
   "metadata": {},
   "outputs": [
    {
     "data": {
      "text/plain": [
       "0.15196484375000002"
      ]
     },
     "execution_count": 22,
     "metadata": {},
     "output_type": "execute_result"
    }
   ],
   "source": [
    "variacion_total(c,d)"
   ]
  },
  {
   "cell_type": "code",
   "execution_count": 15,
   "metadata": {},
   "outputs": [
    {
     "data": {
      "text/plain": [
       "array([0.002, 0.026, 0.069, 0.191, 0.215, 0.287, 0.121, 0.084, 0.002,\n",
       "       0.004, 0.   ])"
      ]
     },
     "execution_count": 15,
     "metadata": {},
     "output_type": "execute_result"
    }
   ],
   "source": []
  },
  {
   "cell_type": "code",
   "execution_count": 20,
   "metadata": {},
   "outputs": [],
   "source": []
  },
  {
   "cell_type": "code",
   "execution_count": null,
   "metadata": {},
   "outputs": [],
   "source": [
    "\n",
    "variacion_tita"
   ]
  },
  {
   "cell_type": "code",
   "execution_count": null,
   "metadata": {},
   "outputs": [],
   "source": [
    "for k in o                        "
   ]
  },
  {
   "cell_type": "code",
   "execution_count": null,
   "metadata": {},
   "outputs": [],
   "source": [
    "medida_uniforme=np.zeros(1000)\n",
    "for i in range(1000):\n",
    "    medida_uniforme[i]=scipy.special.binom(1000,i)/2**(1000)"
   ]
  },
  {
   "cell_type": "code",
   "execution_count": null,
   "metadata": {},
   "outputs": [],
   "source": [
    "medida_uniforme"
   ]
  },
  {
   "cell_type": "code",
   "execution_count": null,
   "metadata": {},
   "outputs": [],
   "source": []
  },
  {
   "cell_type": "code",
   "execution_count": null,
   "metadata": {},
   "outputs": [],
   "source": [
    "\n",
    "#array=[]\n",
    "for i in range(1501,1):\n",
    "    array.append(variacion_total(medida_uniforme,errores[i]))\n",
    "    print(array[i-1])"
   ]
  },
  {
   "cell_type": "code",
   "execution_count": null,
   "metadata": {},
   "outputs": [],
   "source": [
    "plt.plot(array)"
   ]
  },
  {
   "cell_type": "code",
   "execution_count": null,
   "metadata": {},
   "outputs": [],
   "source": [
    "def rising(P):\n",
    "    \"\"\"\n",
    "    Dada una permutación P, calcula la cantidad de rising sequences\n",
    "    \"\"\"\n",
    "    rising_seq = []\n",
    "    while len(P) != 0:\n",
    "        n = len(P)\n",
    "        sub_list = []\n",
    "        actual = P[0]\n",
    "        sub_list.append(actual)\n",
    "        for i in range(n):\n",
    "            if P[i] == actual+1:\n",
    "                actual = P[i]\n",
    "                sub_list.append(actual)\n",
    "        P = [x for x in P if x not in sub_list]\n",
    "        rising_seq.append(sub_list)\n",
    "    return len(rising_seq)\n",
    "\n",
    "def GSRdist(n, m, P):\n",
    "    \"\"\"\n",
    "    Retorna la probabilidad de que el mazo esté en la permutación P luego de aplicar un riffle shuffle m veces\n",
    "    en un mazo de largo n\n",
    "    \"\"\"\n",
    "    return scipy.special.binom(2**m+n-rising(P), n)/(2**(m*n))\n",
    "\n",
    "A = [1, 2, 3, 4, 5]\n",
    "GSRdist(5, 1, A)"
   ]
  }
 ],
 "metadata": {
  "kernelspec": {
   "display_name": "Python 3",
   "language": "python",
   "name": "python3"
  },
  "language_info": {
   "codemirror_mode": {
    "name": "ipython",
    "version": 3
   },
   "file_extension": ".py",
   "mimetype": "text/x-python",
   "name": "python",
   "nbconvert_exporter": "python",
   "pygments_lexer": "ipython3",
   "version": "3.8.3"
  }
 },
 "nbformat": 4,
 "nbformat_minor": 4
}
